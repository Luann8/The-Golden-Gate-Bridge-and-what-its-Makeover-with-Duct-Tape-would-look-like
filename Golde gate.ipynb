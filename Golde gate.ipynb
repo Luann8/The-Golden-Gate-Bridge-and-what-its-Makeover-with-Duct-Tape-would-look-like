import numpy as np
import matplotlib.pyplot as plt
from matplotlib.ticker import FuncFormatter

# Parameters of the Golden Gate Bridge
bridge_length = 2737  # in meters
bridge_width = 27.4  # in meters
bridge_surface_area = bridge_length * bridge_width  # in square meters

# Hypothetical density of adhesive tape
tape_density = 0.001  # in square meters per meter

# Calculate the required amount of adhesive tape
tape_quantity = bridge_surface_area * tape_density

# Visualization of the bridge with adhesive tape
fig, ax = plt.subplots(figsize=(12, 6))

# Represent the bridge
ax.plot([0, bridge_length], [0, 0], linewidth=10, color='skyblue', label='Golden Gate Bridge')

# Add the adhesive tape
ax.fill_between([0, bridge_length], 0, bridge_width, color='gold', alpha=0.5, label='Adhesive Tape')

# Graph settings
ax.set_title('Golden Gate Bridge with Adhesive Tape', fontsize=18, fontweight='bold')
ax.set_xlabel('Length (meters)', fontsize=14)
ax.set_ylabel('Width (meters)', fontsize=14)
ax.legend()

# Add text with information about the adhesive tape
info_text = f'Bridge area: {bridge_surface_area:.2f} m²\nAdhesive tape quantity: {tape_quantity:.2f} m²'
ax.text(0.05, 0.9, info_text, transform=ax.transAxes, fontsize=12, bbox=dict(facecolor='white', alpha=0.8))

# Adjust the format of ticks on the y-axis
ax.yaxis.set_major_formatter(FuncFormatter(lambda x, _: f'{int(x)}m'))

# Remove unnecessary borders
ax.spines['top'].set_visible(False)
ax.spines['right'].set_visible(False)

# Add a grid to facilitate reading
plt.grid(axis='y', linestyle='--', alpha=0.7)

# Adjust the layout to avoid cutting off information
plt.tight_layout()

# Show the plot
plt.show()
